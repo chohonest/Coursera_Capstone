{
 "cells": [
  {
   "cell_type": "markdown",
   "metadata": {},
   "source": [
    "# Description of the Problem and Discussion of the Background (Introduction Section)"
   ]
  },
  {
   "cell_type": "markdown",
   "metadata": {},
   "source": [
    "### A team is looking at opening a restaurant in the Dallas-Fort Worth Metroplex, TX "
   ]
  },
  {
   "cell_type": "markdown",
   "metadata": {},
   "source": [
    "Per the [Dallas Cultural Map]('https://dallas.culturemap.com/news/city-life/01-09-20-dfw-lead-population-growth-2020-2029-cushman-wakefield/'), following a decade of eye-popping population growth, Dallas-Fort-Worth is expected in this decade to once again lead the nation’s metro areas for the number of new residents.   \n",
    "New data from commercial real estate services company Cushman & Wakefield shows DFW gained 1,349,378 residents from 2010 through 2019. In terms of the number of new residents tallied during the past decade, DFW ranked first among U.S. metro areas, the data indicates.   \n",
    "From 2020 through 2029, DFW is projected to tack on another 1,393,623 residents, Cushman & Wakefield says. For the second decade in a row, that would be the highest number of new residents for any metro area, the company says.   \n",
    "Also per [bizournals]('https://www.bizjournals.com/dallas/news/2019/11/21/study-660-companies-moving-facilities-out-of.html'), some 660 companies moved 765 facilities out of California in the past two years, and Dallas-Fort Worth has been the beneficiary of many of the relocations, according to a new report. The departures from the Golden State between January 2018 and now involve corporate headquarters, manufacturing facilities, data centers, research hubs, software and engineering centers and a few warehouses.\n",
    "\n",
    "With all this information at hand a team is looking for a good location in the Dallas-Fort-Worth Metroplex to setup their restaurant where they can make the most profit"
   ]
  },
  {
   "cell_type": "code",
   "execution_count": null,
   "metadata": {},
   "outputs": [],
   "source": []
  },
  {
   "cell_type": "markdown",
   "metadata": {},
   "source": [
    "# A description of the data and how it will be used to solve the problem. "
   ]
  },
  {
   "cell_type": "markdown",
   "metadata": {},
   "source": [
    "The data is made up of all the zip codes, zip code names and population in the Collin and Dnton counties which are both located in north Dallas where most of the migration has taken place and also where majurity of the companies that moved to the Dallas-Firt-Worth Metroplex are located.   \n",
    "The zip codes will be passed into the geopy library to get their latitude and longitude which will be used in the analyses."
   ]
  },
  {
   "cell_type": "markdown",
   "metadata": {},
   "source": [
    "**Obtain the Data and analysing the neighborhoods**"
   ]
  },
  {
   "cell_type": "markdown",
   "metadata": {},
   "source": [
    "  * Pandas will be used to scrap the data of the Dallas [Cultural Map website](\"https://www.zipdatamaps.com/list-of-zip-codes-in-texas.php\")   \n",
    "  * Two counties (Collin and Denton) will be selected for the analyses\n",
    "  * Use Foresquare Data to obtain info about restaurants\n",
    "  * Data Visualization and Statistical Analysis\n",
    "  * Analysis Using Clustering, Specially K-Means Clustering\n",
    "    - Maximize the number of clusters.\n",
    "    - Visualization using Chloropleth Map\n",
    "  * Compare the Neighborhoods to Find the Best Place for Starting up a Restaurant"
   ]
  }
 ],
 "metadata": {
  "kernelspec": {
   "display_name": "Python 3",
   "language": "python",
   "name": "python3"
  },
  "language_info": {
   "codemirror_mode": {
    "name": "ipython",
    "version": 3
   },
   "file_extension": ".py",
   "mimetype": "text/x-python",
   "name": "python",
   "nbconvert_exporter": "python",
   "pygments_lexer": "ipython3",
   "version": "3.7.6"
  }
 },
 "nbformat": 4,
 "nbformat_minor": 4
}
