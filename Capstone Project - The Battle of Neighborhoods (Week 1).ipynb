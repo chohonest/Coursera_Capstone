{
 "cells": [
  {
   "cell_type": "markdown",
   "metadata": {},
   "source": [
    "# Description of the Problem and Discussion of the Background (Introduction Section)"
   ]
  },
  {
   "cell_type": "markdown",
   "metadata": {},
   "source": [
    "### A team is looking at opening a restaurant in the Dallas-Fort Worth Metroplex, TX "
   ]
  },
  {
   "cell_type": "markdown",
   "metadata": {},
   "source": [
    "Per the [Dallas Cultural Map]('https://dallas.culturemap.com/news/city-life/01-09-20-dfw-lead-population-growth-2020-2029-cushman-wakefield/'), following a decade of eye-popping population growth, Dallas-Fort-Worth is expected in this decade to once again lead the nation’s metro areas for the number of new residents.   \n",
    "New data from commercial real estate services company Cushman & Wakefield shows DFW gained 1,349,378 residents from 2010 through 2019. In terms of the number of new residents tallied during the past decade, DFW ranked first among U.S. metro areas, the data indicates.   \n",
    "From 2020 through 2029, DFW is projected to tack on another 1,393,623 residents, Cushman & Wakefield says. For the second decade in a row, that would be the highest number of new residents for any metro area, the company says.   \n",
    "Also per [bizournals]('https://www.bizjournals.com/dallas/news/2019/11/21/study-660-companies-moving-facilities-out-of.html'), some 660 companies moved 765 facilities out of California in the past two years, and Dallas-Fort Worth has been the beneficiary of many of the relocations, according to a new report. The departures from the Golden State between January 2018 and now involve corporate headquarters, manufacturing facilities, data centers, research hubs, software and engineering centers and a few warehouses.\n",
    "\n",
    "With all this information at hand a team is looking for a good location in the Dallas-Fort-Worth Metroplex to setup their restaurant where they can make the most profit"
   ]
  },
  {
   "cell_type": "code",
   "execution_count": null,
   "metadata": {},
   "outputs": [],
   "source": []
  },
  {
   "cell_type": "markdown",
   "metadata": {},
   "source": [
    "# A description of the data and how it will be used to solve the problem. "
   ]
  },
  {
   "cell_type": "markdown",
   "metadata": {},
   "source": [
    "The data is made up of all the zip codes, zip code names and population in the Collin and Dnton counties which are both located in north Dallas where most of the migration has taken place and also where majurity of the companies that moved to the Dallas-Firt-Worth Metroplex are located.   \n",
    "The zip codes will be passed into the geopy library to get their latitude and longitude which will be used in the analyses."
   ]
  },
  {
   "cell_type": "markdown",
   "metadata": {},
   "source": [
    "**Obtain the Data and analysing the neighborhoods**"
   ]
  },
  {
   "cell_type": "markdown",
   "metadata": {},
   "source": [
    "  * Pandas will be used to scrap the data of the Dallas [Cultural Map website](\"https://www.zipdatamaps.com/list-of-zip-codes-in-texas.php\")   \n",
    "  * Two counties (Collin and Denton) will be selected for the analyses\n",
    "  * Use Foresquare Data to obtain info about restaurants\n",
    "  * Data Visualization and Statistical Analysis\n",
    "  * Analysis Using Clustering, Specially K-Means Clustering\n",
    "    - Maximize the number of clusters.\n",
    "    - Visualization using Chloropleth Map\n",
    "  * Compare the Neighborhoods to Find the Best Place for Starting up a Restaurant"
   ]
  },
  {
   "cell_type": "code",
   "execution_count": null,
   "metadata": {},
   "outputs": [],
   "source": []
  },
  {
   "cell_type": "code",
   "execution_count": 20,
   "metadata": {
    "jupyter": {
     "source_hidden": true
    }
   },
   "outputs": [],
   "source": [
    "import numpy as np # library to handle data in a vectorized manner\n",
    "\n",
    "import pandas as pd # library for data analsysis\n",
    "pd.set_option('display.max_columns', None)\n",
    "pd.set_option('display.max_rows', None)\n",
    "\n",
    "from geopy.geocoders import Nominatim"
   ]
  },
  {
   "cell_type": "code",
   "execution_count": null,
   "metadata": {},
   "outputs": [],
   "source": []
  },
  {
   "cell_type": "code",
   "execution_count": 21,
   "metadata": {
    "jupyter": {
     "source_hidden": true
    }
   },
   "outputs": [],
   "source": [
    "geolocator = Nominatim(user_agent=\"dfw_explorer\")\n",
    "location = geolocator.geocode({\"postalcode\": 75068})\n",
    "latitude = location.latitude\n",
    "longitude = location.longitude"
   ]
  },
  {
   "cell_type": "code",
   "execution_count": 22,
   "metadata": {
    "collapsed": true,
    "jupyter": {
     "outputs_hidden": true,
     "source_hidden": true
    }
   },
   "outputs": [
    {
     "data": {
      "text/plain": [
       "33.169930105156986"
      ]
     },
     "execution_count": 22,
     "metadata": {},
     "output_type": "execute_result"
    }
   ],
   "source": [
    "latitude"
   ]
  },
  {
   "cell_type": "code",
   "execution_count": 17,
   "metadata": {
    "jupyter": {
     "source_hidden": true
    }
   },
   "outputs": [],
   "source": [
    "df = pd.read_csv('State_of_Texas.csv')"
   ]
  },
  {
   "cell_type": "code",
   "execution_count": 19,
   "metadata": {
    "collapsed": true,
    "jupyter": {
     "outputs_hidden": true,
     "source_hidden": true
    }
   },
   "outputs": [
    {
     "data": {
      "text/html": [
       "<div>\n",
       "<style scoped>\n",
       "    .dataframe tbody tr th:only-of-type {\n",
       "        vertical-align: middle;\n",
       "    }\n",
       "\n",
       "    .dataframe tbody tr th {\n",
       "        vertical-align: top;\n",
       "    }\n",
       "\n",
       "    .dataframe thead th {\n",
       "        text-align: right;\n",
       "    }\n",
       "</style>\n",
       "<table border=\"1\" class=\"dataframe\">\n",
       "  <thead>\n",
       "    <tr style=\"text-align: right;\">\n",
       "      <th></th>\n",
       "      <th>FIPS</th>\n",
       "      <th>area_name</th>\n",
       "      <th>year</th>\n",
       "      <th>age_group</th>\n",
       "      <th>total</th>\n",
       "      <th>total_male</th>\n",
       "      <th>total_female</th>\n",
       "      <th>nh_white_total</th>\n",
       "      <th>nh_white_male</th>\n",
       "      <th>nh_white_female</th>\n",
       "      <th>nh_black_total</th>\n",
       "      <th>nh_black_male</th>\n",
       "      <th>nh_black_female</th>\n",
       "      <th>hispanic_total</th>\n",
       "      <th>hispanic_male</th>\n",
       "      <th>hispanic_female</th>\n",
       "      <th>nh_asian_total</th>\n",
       "      <th>nh_asian_male</th>\n",
       "      <th>nh_asian_female</th>\n",
       "      <th>nh_other_total</th>\n",
       "      <th>nh_other_male</th>\n",
       "      <th>nh_other_female</th>\n",
       "    </tr>\n",
       "  </thead>\n",
       "  <tbody>\n",
       "    <tr>\n",
       "      <th>241</th>\n",
       "      <td>0</td>\n",
       "      <td>State of Texas</td>\n",
       "      <td>2050</td>\n",
       "      <td>&lt;18</td>\n",
       "      <td>10747450</td>\n",
       "      <td>5473969</td>\n",
       "      <td>5273481</td>\n",
       "      <td>2392698</td>\n",
       "      <td>1222060</td>\n",
       "      <td>1170638</td>\n",
       "      <td>1285703</td>\n",
       "      <td>653523</td>\n",
       "      <td>632180</td>\n",
       "      <td>5297102</td>\n",
       "      <td>2694022</td>\n",
       "      <td>2603080</td>\n",
       "      <td>1176045</td>\n",
       "      <td>600550</td>\n",
       "      <td>575495</td>\n",
       "      <td>595902</td>\n",
       "      <td>303814</td>\n",
       "      <td>292088</td>\n",
       "    </tr>\n",
       "    <tr>\n",
       "      <th>242</th>\n",
       "      <td>0</td>\n",
       "      <td>State of Texas</td>\n",
       "      <td>2050</td>\n",
       "      <td>18-24</td>\n",
       "      <td>4305000</td>\n",
       "      <td>2201386</td>\n",
       "      <td>2103614</td>\n",
       "      <td>1030850</td>\n",
       "      <td>531813</td>\n",
       "      <td>499037</td>\n",
       "      <td>541929</td>\n",
       "      <td>275910</td>\n",
       "      <td>266019</td>\n",
       "      <td>2007000</td>\n",
       "      <td>1021388</td>\n",
       "      <td>985612</td>\n",
       "      <td>517878</td>\n",
       "      <td>266305</td>\n",
       "      <td>251573</td>\n",
       "      <td>207343</td>\n",
       "      <td>105970</td>\n",
       "      <td>101373</td>\n",
       "    </tr>\n",
       "    <tr>\n",
       "      <th>243</th>\n",
       "      <td>0</td>\n",
       "      <td>State of Texas</td>\n",
       "      <td>2050</td>\n",
       "      <td>25-44</td>\n",
       "      <td>12789607</td>\n",
       "      <td>6496859</td>\n",
       "      <td>6292748</td>\n",
       "      <td>3347976</td>\n",
       "      <td>1729822</td>\n",
       "      <td>1618154</td>\n",
       "      <td>1696253</td>\n",
       "      <td>862713</td>\n",
       "      <td>833540</td>\n",
       "      <td>5372408</td>\n",
       "      <td>2710541</td>\n",
       "      <td>2661867</td>\n",
       "      <td>1840838</td>\n",
       "      <td>920058</td>\n",
       "      <td>920780</td>\n",
       "      <td>532132</td>\n",
       "      <td>273725</td>\n",
       "      <td>258407</td>\n",
       "    </tr>\n",
       "    <tr>\n",
       "      <th>244</th>\n",
       "      <td>0</td>\n",
       "      <td>State of Texas</td>\n",
       "      <td>2050</td>\n",
       "      <td>45-64</td>\n",
       "      <td>11193374</td>\n",
       "      <td>5653597</td>\n",
       "      <td>5539777</td>\n",
       "      <td>3493575</td>\n",
       "      <td>1795766</td>\n",
       "      <td>1697809</td>\n",
       "      <td>1548204</td>\n",
       "      <td>776003</td>\n",
       "      <td>772201</td>\n",
       "      <td>4424459</td>\n",
       "      <td>2213994</td>\n",
       "      <td>2210465</td>\n",
       "      <td>1397956</td>\n",
       "      <td>700455</td>\n",
       "      <td>697501</td>\n",
       "      <td>329180</td>\n",
       "      <td>167379</td>\n",
       "      <td>161801</td>\n",
       "    </tr>\n",
       "    <tr>\n",
       "      <th>245</th>\n",
       "      <td>0</td>\n",
       "      <td>State of Texas</td>\n",
       "      <td>2050</td>\n",
       "      <td>65+</td>\n",
       "      <td>8306674</td>\n",
       "      <td>3789269</td>\n",
       "      <td>4517405</td>\n",
       "      <td>3258740</td>\n",
       "      <td>1496591</td>\n",
       "      <td>1762149</td>\n",
       "      <td>958706</td>\n",
       "      <td>396599</td>\n",
       "      <td>562107</td>\n",
       "      <td>3090781</td>\n",
       "      <td>1425377</td>\n",
       "      <td>1665404</td>\n",
       "      <td>850162</td>\n",
       "      <td>404441</td>\n",
       "      <td>445721</td>\n",
       "      <td>148285</td>\n",
       "      <td>66261</td>\n",
       "      <td>82024</td>\n",
       "    </tr>\n",
       "  </tbody>\n",
       "</table>\n",
       "</div>"
      ],
      "text/plain": [
       "     FIPS       area_name  year age_group     total  total_male  total_female  \\\n",
       "241     0  State of Texas  2050       <18  10747450     5473969       5273481   \n",
       "242     0  State of Texas  2050     18-24   4305000     2201386       2103614   \n",
       "243     0  State of Texas  2050     25-44  12789607     6496859       6292748   \n",
       "244     0  State of Texas  2050     45-64  11193374     5653597       5539777   \n",
       "245     0  State of Texas  2050       65+   8306674     3789269       4517405   \n",
       "\n",
       "     nh_white_total  nh_white_male  nh_white_female  nh_black_total  \\\n",
       "241         2392698        1222060          1170638         1285703   \n",
       "242         1030850         531813           499037          541929   \n",
       "243         3347976        1729822          1618154         1696253   \n",
       "244         3493575        1795766          1697809         1548204   \n",
       "245         3258740        1496591          1762149          958706   \n",
       "\n",
       "     nh_black_male  nh_black_female  hispanic_total  hispanic_male  \\\n",
       "241         653523           632180         5297102        2694022   \n",
       "242         275910           266019         2007000        1021388   \n",
       "243         862713           833540         5372408        2710541   \n",
       "244         776003           772201         4424459        2213994   \n",
       "245         396599           562107         3090781        1425377   \n",
       "\n",
       "     hispanic_female  nh_asian_total  nh_asian_male  nh_asian_female  \\\n",
       "241          2603080         1176045         600550           575495   \n",
       "242           985612          517878         266305           251573   \n",
       "243          2661867         1840838         920058           920780   \n",
       "244          2210465         1397956         700455           697501   \n",
       "245          1665404          850162         404441           445721   \n",
       "\n",
       "     nh_other_total  nh_other_male  nh_other_female  \n",
       "241          595902         303814           292088  \n",
       "242          207343         105970           101373  \n",
       "243          532132         273725           258407  \n",
       "244          329180         167379           161801  \n",
       "245          148285          66261            82024  "
      ]
     },
     "execution_count": 19,
     "metadata": {},
     "output_type": "execute_result"
    }
   ],
   "source": [
    "df.tail()"
   ]
  },
  {
   "cell_type": "code",
   "execution_count": null,
   "metadata": {},
   "outputs": [],
   "source": []
  },
  {
   "cell_type": "code",
   "execution_count": 12,
   "metadata": {
    "jupyter": {
     "source_hidden": true
    }
   },
   "outputs": [],
   "source": [
    "collin_county_df = pd.read_html(\"https://www.zipdatamaps.com/collin-tx-county-zipcodes\")"
   ]
  },
  {
   "cell_type": "code",
   "execution_count": 13,
   "metadata": {
    "jupyter": {
     "source_hidden": true
    }
   },
   "outputs": [],
   "source": [
    "collin_county_df = collin_county_df[1]"
   ]
  },
  {
   "cell_type": "code",
   "execution_count": null,
   "metadata": {},
   "outputs": [],
   "source": []
  },
  {
   "cell_type": "code",
   "execution_count": 14,
   "metadata": {
    "jupyter": {
     "source_hidden": true
    }
   },
   "outputs": [],
   "source": [
    "denton_county_df = pd.read_html(\"https://www.zipdatamaps.com/denton-tx-county-zipcodes\")"
   ]
  },
  {
   "cell_type": "code",
   "execution_count": 15,
   "metadata": {
    "jupyter": {
     "source_hidden": true
    }
   },
   "outputs": [],
   "source": [
    "denton_county_df = denton_county_df[1]"
   ]
  },
  {
   "cell_type": "code",
   "execution_count": 16,
   "metadata": {
    "collapsed": true,
    "jupyter": {
     "outputs_hidden": true,
     "source_hidden": true
    }
   },
   "outputs": [
    {
     "data": {
      "text/html": [
       "<div>\n",
       "<style scoped>\n",
       "    .dataframe tbody tr th:only-of-type {\n",
       "        vertical-align: middle;\n",
       "    }\n",
       "\n",
       "    .dataframe tbody tr th {\n",
       "        vertical-align: top;\n",
       "    }\n",
       "\n",
       "    .dataframe thead tr th {\n",
       "        text-align: left;\n",
       "    }\n",
       "</style>\n",
       "<table border=\"1\" class=\"dataframe\">\n",
       "  <thead>\n",
       "    <tr>\n",
       "      <th></th>\n",
       "      <th colspan=\"4\" halign=\"left\">List of Zipcodes in Denton County, Texas</th>\n",
       "    </tr>\n",
       "    <tr>\n",
       "      <th></th>\n",
       "      <th>ZIP Code</th>\n",
       "      <th>ZIP Code Name</th>\n",
       "      <th>Population</th>\n",
       "      <th>Type</th>\n",
       "    </tr>\n",
       "  </thead>\n",
       "  <tbody>\n",
       "    <tr>\n",
       "      <th>0</th>\n",
       "      <td>75007.0</td>\n",
       "      <td>Carrollton</td>\n",
       "      <td>51624.0</td>\n",
       "      <td>Non-Unique</td>\n",
       "    </tr>\n",
       "    <tr>\n",
       "      <th>1</th>\n",
       "      <td>75009.0</td>\n",
       "      <td>Celina</td>\n",
       "      <td>8785.0</td>\n",
       "      <td>Non-Unique</td>\n",
       "    </tr>\n",
       "    <tr>\n",
       "      <th>2</th>\n",
       "      <td>75010.0</td>\n",
       "      <td>Carrollton</td>\n",
       "      <td>21607.0</td>\n",
       "      <td>Non-Unique</td>\n",
       "    </tr>\n",
       "    <tr>\n",
       "      <th>3</th>\n",
       "      <td>75019.0</td>\n",
       "      <td>Coppell</td>\n",
       "      <td>38666.0</td>\n",
       "      <td>Non-Unique</td>\n",
       "    </tr>\n",
       "    <tr>\n",
       "      <th>4</th>\n",
       "      <td>75022.0</td>\n",
       "      <td>Flower Mound</td>\n",
       "      <td>22545.0</td>\n",
       "      <td>Non-Unique</td>\n",
       "    </tr>\n",
       "  </tbody>\n",
       "</table>\n",
       "</div>"
      ],
      "text/plain": [
       "  List of Zipcodes in Denton County, Texas                           \\\n",
       "                                  ZIP Code ZIP Code Name Population   \n",
       "0                                  75007.0    Carrollton    51624.0   \n",
       "1                                  75009.0        Celina     8785.0   \n",
       "2                                  75010.0    Carrollton    21607.0   \n",
       "3                                  75019.0       Coppell    38666.0   \n",
       "4                                  75022.0  Flower Mound    22545.0   \n",
       "\n",
       "               \n",
       "         Type  \n",
       "0  Non-Unique  \n",
       "1  Non-Unique  \n",
       "2  Non-Unique  \n",
       "3  Non-Unique  \n",
       "4  Non-Unique  "
      ]
     },
     "execution_count": 16,
     "metadata": {},
     "output_type": "execute_result"
    }
   ],
   "source": [
    "denton_county_df.head()"
   ]
  },
  {
   "cell_type": "code",
   "execution_count": 27,
   "metadata": {
    "collapsed": true,
    "jupyter": {
     "outputs_hidden": true,
     "source_hidden": true
    }
   },
   "outputs": [
    {
     "data": {
      "text/plain": [
       "MultiIndex([('List of Zipcodes in Denton County, Texas',      'ZIP Code'),\n",
       "            ('List of Zipcodes in Denton County, Texas', 'ZIP Code Name'),\n",
       "            ('List of Zipcodes in Denton County, Texas',    'Population'),\n",
       "            ('List of Zipcodes in Denton County, Texas',          'Type')],\n",
       "           )"
      ]
     },
     "execution_count": 27,
     "metadata": {},
     "output_type": "execute_result"
    }
   ],
   "source": [
    "denton_county_df.columns"
   ]
  },
  {
   "cell_type": "code",
   "execution_count": 28,
   "metadata": {
    "jupyter": {
     "source_hidden": true
    }
   },
   "outputs": [],
   "source": [
    "denton_county_df.columns = ['ZIP Code', 'ZIP Code Name', 'Population', 'Type']"
   ]
  },
  {
   "cell_type": "code",
   "execution_count": 29,
   "metadata": {
    "collapsed": true,
    "jupyter": {
     "outputs_hidden": true,
     "source_hidden": true
    }
   },
   "outputs": [
    {
     "data": {
      "text/plain": [
       "Index(['ZIP Code', 'ZIP Code Name', 'Population', 'Type'], dtype='object')"
      ]
     },
     "execution_count": 29,
     "metadata": {},
     "output_type": "execute_result"
    }
   ],
   "source": [
    "denton_county_df.columns"
   ]
  },
  {
   "cell_type": "code",
   "execution_count": 30,
   "metadata": {
    "collapsed": true,
    "jupyter": {
     "outputs_hidden": true,
     "source_hidden": true
    }
   },
   "outputs": [
    {
     "data": {
      "text/html": [
       "<div>\n",
       "<style scoped>\n",
       "    .dataframe tbody tr th:only-of-type {\n",
       "        vertical-align: middle;\n",
       "    }\n",
       "\n",
       "    .dataframe tbody tr th {\n",
       "        vertical-align: top;\n",
       "    }\n",
       "\n",
       "    .dataframe thead th {\n",
       "        text-align: right;\n",
       "    }\n",
       "</style>\n",
       "<table border=\"1\" class=\"dataframe\">\n",
       "  <thead>\n",
       "    <tr style=\"text-align: right;\">\n",
       "      <th></th>\n",
       "      <th>ZIP Code</th>\n",
       "      <th>ZIP Code Name</th>\n",
       "      <th>Population</th>\n",
       "      <th>Type</th>\n",
       "    </tr>\n",
       "  </thead>\n",
       "  <tbody>\n",
       "    <tr>\n",
       "      <th>0</th>\n",
       "      <td>75007.0</td>\n",
       "      <td>Carrollton</td>\n",
       "      <td>51624.0</td>\n",
       "      <td>Non-Unique</td>\n",
       "    </tr>\n",
       "    <tr>\n",
       "      <th>1</th>\n",
       "      <td>75009.0</td>\n",
       "      <td>Celina</td>\n",
       "      <td>8785.0</td>\n",
       "      <td>Non-Unique</td>\n",
       "    </tr>\n",
       "    <tr>\n",
       "      <th>2</th>\n",
       "      <td>75010.0</td>\n",
       "      <td>Carrollton</td>\n",
       "      <td>21607.0</td>\n",
       "      <td>Non-Unique</td>\n",
       "    </tr>\n",
       "    <tr>\n",
       "      <th>3</th>\n",
       "      <td>75019.0</td>\n",
       "      <td>Coppell</td>\n",
       "      <td>38666.0</td>\n",
       "      <td>Non-Unique</td>\n",
       "    </tr>\n",
       "    <tr>\n",
       "      <th>4</th>\n",
       "      <td>75022.0</td>\n",
       "      <td>Flower Mound</td>\n",
       "      <td>22545.0</td>\n",
       "      <td>Non-Unique</td>\n",
       "    </tr>\n",
       "  </tbody>\n",
       "</table>\n",
       "</div>"
      ],
      "text/plain": [
       "   ZIP Code ZIP Code Name  Population        Type\n",
       "0   75007.0    Carrollton     51624.0  Non-Unique\n",
       "1   75009.0        Celina      8785.0  Non-Unique\n",
       "2   75010.0    Carrollton     21607.0  Non-Unique\n",
       "3   75019.0       Coppell     38666.0  Non-Unique\n",
       "4   75022.0  Flower Mound     22545.0  Non-Unique"
      ]
     },
     "execution_count": 30,
     "metadata": {},
     "output_type": "execute_result"
    }
   ],
   "source": [
    "denton_county_df.head()"
   ]
  },
  {
   "cell_type": "code",
   "execution_count": 34,
   "metadata": {
    "jupyter": {
     "source_hidden": true
    }
   },
   "outputs": [],
   "source": [
    "denton_county_df.dropna(inplace=True)"
   ]
  },
  {
   "cell_type": "code",
   "execution_count": 37,
   "metadata": {
    "jupyter": {
     "source_hidden": true
    }
   },
   "outputs": [],
   "source": [
    "denton_county_df['ZIP Code'] = denton_county_df['ZIP Code'].astype('int32')"
   ]
  },
  {
   "cell_type": "code",
   "execution_count": 38,
   "metadata": {
    "collapsed": true,
    "jupyter": {
     "outputs_hidden": true,
     "source_hidden": true
    }
   },
   "outputs": [
    {
     "data": {
      "text/html": [
       "<div>\n",
       "<style scoped>\n",
       "    .dataframe tbody tr th:only-of-type {\n",
       "        vertical-align: middle;\n",
       "    }\n",
       "\n",
       "    .dataframe tbody tr th {\n",
       "        vertical-align: top;\n",
       "    }\n",
       "\n",
       "    .dataframe thead th {\n",
       "        text-align: right;\n",
       "    }\n",
       "</style>\n",
       "<table border=\"1\" class=\"dataframe\">\n",
       "  <thead>\n",
       "    <tr style=\"text-align: right;\">\n",
       "      <th></th>\n",
       "      <th>ZIP Code</th>\n",
       "      <th>ZIP Code Name</th>\n",
       "      <th>Population</th>\n",
       "      <th>Type</th>\n",
       "    </tr>\n",
       "  </thead>\n",
       "  <tbody>\n",
       "    <tr>\n",
       "      <th>0</th>\n",
       "      <td>75007</td>\n",
       "      <td>Carrollton</td>\n",
       "      <td>51624.0</td>\n",
       "      <td>Non-Unique</td>\n",
       "    </tr>\n",
       "    <tr>\n",
       "      <th>1</th>\n",
       "      <td>75009</td>\n",
       "      <td>Celina</td>\n",
       "      <td>8785.0</td>\n",
       "      <td>Non-Unique</td>\n",
       "    </tr>\n",
       "    <tr>\n",
       "      <th>2</th>\n",
       "      <td>75010</td>\n",
       "      <td>Carrollton</td>\n",
       "      <td>21607.0</td>\n",
       "      <td>Non-Unique</td>\n",
       "    </tr>\n",
       "    <tr>\n",
       "      <th>3</th>\n",
       "      <td>75019</td>\n",
       "      <td>Coppell</td>\n",
       "      <td>38666.0</td>\n",
       "      <td>Non-Unique</td>\n",
       "    </tr>\n",
       "    <tr>\n",
       "      <th>4</th>\n",
       "      <td>75022</td>\n",
       "      <td>Flower Mound</td>\n",
       "      <td>22545.0</td>\n",
       "      <td>Non-Unique</td>\n",
       "    </tr>\n",
       "  </tbody>\n",
       "</table>\n",
       "</div>"
      ],
      "text/plain": [
       "   ZIP Code ZIP Code Name  Population        Type\n",
       "0     75007    Carrollton     51624.0  Non-Unique\n",
       "1     75009        Celina      8785.0  Non-Unique\n",
       "2     75010    Carrollton     21607.0  Non-Unique\n",
       "3     75019       Coppell     38666.0  Non-Unique\n",
       "4     75022  Flower Mound     22545.0  Non-Unique"
      ]
     },
     "execution_count": 38,
     "metadata": {},
     "output_type": "execute_result"
    }
   ],
   "source": [
    "denton_county_df.head()"
   ]
  },
  {
   "cell_type": "code",
   "execution_count": null,
   "metadata": {},
   "outputs": [],
   "source": []
  }
 ],
 "metadata": {
  "kernelspec": {
   "display_name": "Python 3",
   "language": "python",
   "name": "python3"
  },
  "language_info": {
   "codemirror_mode": {
    "name": "ipython",
    "version": 3
   },
   "file_extension": ".py",
   "mimetype": "text/x-python",
   "name": "python",
   "nbconvert_exporter": "python",
   "pygments_lexer": "ipython3",
   "version": "3.7.6"
  }
 },
 "nbformat": 4,
 "nbformat_minor": 4
}
